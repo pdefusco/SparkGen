{
 "cells": [
  {
   "cell_type": "code",
   "execution_count": 2,
   "id": "1967fa6d-e7f5-4ecc-be95-8f2057f5f373",
   "metadata": {
    "tags": []
   },
   "outputs": [
    {
     "name": "stderr",
     "output_type": "stream",
     "text": [
      "DEBUG: Starting new HTTPS connection (1): ml-4c5feac0-3ec.go01-dem.ylcu-atmi.cloudera.site:443\n",
      "DEBUG: https://ml-4c5feac0-3ec.go01-dem.ylcu-atmi.cloudera.site:443 \"GET /api/v1/projects/1888/data-connections HTTP/1.1\" 200 None\n",
      "DEBUG: https://ml-4c5feac0-3ec.go01-dem.ylcu-atmi.cloudera.site:443 \"GET /api/v1/projects/1888/data-connections/33176?engine_id=0q1uzvvu06j5t9iq HTTP/1.1\" 200 785\n",
      "Setting spark.hadoop.yarn.resourcemanager.principal to pauldefusco\n",
      "Hive Session ID = 24fc3e18-d270-4f2e-810f-bf43cf78de56\n"
     ]
    },
    {
     "name": "stdout",
     "output_type": "stream",
     "text": [
      "+--------------------+\n",
      "|           namespace|\n",
      "+--------------------+\n",
      "|         01_car_data|\n",
      "|           01_car_dw|\n",
      "|      adash_car_data|\n",
      "|             airline|\n",
      "|          airline_dw|\n",
      "|            airlines|\n",
      "|        airlines_csv|\n",
      "|       airlines_csv1|\n",
      "|   airlines_csv_vish|\n",
      "|    airlines_iceberg|\n",
      "|   airlines_iceberg1|\n",
      "|airlines_iceberg_...|\n",
      "|airlines_iceberg_...|\n",
      "|      airlines_mjain|\n",
      "|          airquality|\n",
      "|          atlas_demo|\n",
      "|            bankdemo|\n",
      "|          bca_jps_l0|\n",
      "|          bca_jps_l1|\n",
      "|              bhagan|\n",
      "+--------------------+\n",
      "only showing top 20 rows\n",
      "\n"
     ]
    }
   ],
   "source": [
    "import cml.data_v1 as cmldata\n",
    "\n",
    "CONNECTION_NAME = \"go01-aw-dl\"\n",
    "conn = cmldata.get_connection(CONNECTION_NAME)\n",
    "spark = conn.get_spark_session()\n",
    "\n",
    "# Sample usage to run query through spark\n",
    "EXAMPLE_SQL_QUERY = \"show databases\"\n",
    "spark.sql(EXAMPLE_SQL_QUERY).show()\n"
   ]
  },
  {
   "cell_type": "code",
   "execution_count": 5,
   "id": "80143513-f492-4694-820f-a45f4ae92ca2",
   "metadata": {
    "tags": []
   },
   "outputs": [
    {
     "name": "stderr",
     "output_type": "stream",
     "text": [
      "                                                                                \r"
     ]
    }
   ],
   "source": [
    "import dbldatagen as dg\n",
    "\n",
    "dfSource = spark.read.format(\"csv\").load(\"data/car_sales.csv\")"
   ]
  },
  {
   "cell_type": "code",
   "execution_count": 9,
   "id": "a81909c7-09d2-4388-92b1-399e30ab035b",
   "metadata": {
    "tags": []
   },
   "outputs": [],
   "source": [
    "analyzer = dg.DataAnalyzer(sparkSession=spark, df=dfSource)"
   ]
  },
  {
   "cell_type": "code",
   "execution_count": 10,
   "id": "4016eb62-7458-43bf-b594-a331548c6f09",
   "metadata": {
    "tags": []
   },
   "outputs": [
    {
     "ename": "AttributeError",
     "evalue": "type object 'DataAnalyzer' has no attribute 'scriptDataGeneratorFromSchema'",
     "output_type": "error",
     "traceback": [
      "\u001b[0;31m---------------------------------------------------------------------------\u001b[0m",
      "\u001b[0;31mAttributeError\u001b[0m                            Traceback (most recent call last)",
      "\u001b[0;32m/tmp/ipykernel_286/2560064108.py\u001b[0m in \u001b[0;36m<module>\u001b[0;34m\u001b[0m\n\u001b[0;32m----> 1\u001b[0;31m \u001b[0mcode\u001b[0m \u001b[0;34m=\u001b[0m  \u001b[0mdg\u001b[0m\u001b[0;34m.\u001b[0m\u001b[0mDataAnalyzer\u001b[0m\u001b[0;34m.\u001b[0m\u001b[0mscriptDataGeneratorFromSchema\u001b[0m\u001b[0;34m(\u001b[0m\u001b[0mdfSource\u001b[0m\u001b[0;34m.\u001b[0m\u001b[0mschema\u001b[0m\u001b[0;34m)\u001b[0m\u001b[0;34m\u001b[0m\u001b[0;34m\u001b[0m\u001b[0m\n\u001b[0m",
      "\u001b[0;31mAttributeError\u001b[0m: type object 'DataAnalyzer' has no attribute 'scriptDataGeneratorFromSchema'"
     ]
    }
   ],
   "source": [
    "code =  dg.DataAnalyzer.scriptDataGeneratorFromSchema(dfSource.schema)"
   ]
  },
  {
   "cell_type": "code",
   "execution_count": 21,
   "id": "c70ce54f-06c5-4e80-a579-e41fd1ba75dc",
   "metadata": {
    "tags": []
   },
   "outputs": [],
   "source": [
    "s3BucketName = \"data\""
   ]
  },
  {
   "cell_type": "code",
   "execution_count": 22,
   "id": "698d2eac-1b8a-4b03-82f8-0662c530b55d",
   "metadata": {
    "tags": []
   },
   "outputs": [
    {
     "name": "stderr",
     "output_type": "stream",
     "text": [
      "                                                                                \r"
     ]
    }
   ],
   "source": [
    "car_installs  = spark.read.csv(s3BucketName + \"/car_installs.csv\",        header=True, inferSchema=True)\n",
    "car_sales     = spark.read.csv(s3BucketName + \"/historical_car_sales.csv\",           header=True, inferSchema=True)\n",
    "customer_data = spark.read.csv(s3BucketName + \"/customer_data.csv\",       header=True, inferSchema=True)\n",
    "factory_data  = spark.read.csv(s3BucketName + \"/experimental_motors.csv\", header=True, inferSchema=True)\n",
    "geo_data      = spark.read.csv(s3BucketName + \"/postal_codes.csv\",        header=True, inferSchema=True)"
   ]
  },
  {
   "cell_type": "code",
   "execution_count": 18,
   "id": "0e276ed7-2e0d-4dc0-8594-4a719c8d6d01",
   "metadata": {
    "tags": []
   },
   "outputs": [],
   "source": [
    "partitions_num=10 \n",
    "row_count = 100000 \n",
    "unique_vals=100000 \n",
    "display_option=True"
   ]
  },
  {
   "cell_type": "code",
   "execution_count": 24,
   "id": "832d9fd1-f7c6-4735-9a77-d737acc2ef03",
   "metadata": {
    "tags": []
   },
   "outputs": [
    {
     "name": "stdout",
     "output_type": "stream",
     "text": [
      "car installs\n",
      "StructType(List(StructField(model,StringType,true),StructField(VIN,StringType,true),StructField(serial_no,StringType,true)))\n",
      "\n",
      " car sales\n",
      "StructType(List(StructField(customer_id,IntegerType,true),StructField(model,StringType,true),StructField(saleprice,DoubleType,true),StructField(VIN,StringType,true),StructField(month,IntegerType,true),StructField(year,IntegerType,true),StructField(day,IntegerType,true)))\n",
      "\n",
      " customer_data\n",
      "StructType(List(StructField(customer_id,IntegerType,true),StructField(username,StringType,true),StructField(name,StringType,true),StructField(gender,StringType,true),StructField(email,StringType,true),StructField(occupation,StringType,true),StructField(birthdate,StringType,true),StructField(address,StringType,true),StructField(salary,DoubleType,true),StructField(zip,IntegerType,true)))\n",
      "\n",
      " factory_data\n",
      "StructType(List(StructField(factory_no,IntegerType,true),StructField(machine_no,IntegerType,true),StructField(part_no,StringType,true),StructField(serial_no,StringType,true),StructField(timestamp,DoubleType,true),StructField(status,StringType,true)))\n",
      "\n",
      " geo_data\n",
      "StructType(List(StructField(countrycode,StringType,true),StructField(postalcode,IntegerType,true),StructField(placename,StringType,true),StructField(state,StringType,true),StructField(stateshort,StringType,true),StructField(county,StringType,true),StructField(countynum,IntegerType,true),StructField(Column8,StringType,true),StructField(Column9,IntegerType,true),StructField(latitude,DoubleType,true),StructField(longitude,DoubleType,true),StructField(accuracy,IntegerType,true)))\n"
     ]
    }
   ],
   "source": [
    "print(\"car installs\")\n",
    "print(car_installs.schema)\n",
    "print(\"\\n car sales\")\n",
    "print(car_sales.schema)\n",
    "print(\"\\n customer_data\")\n",
    "print(customer_data.schema)\n",
    "print(\"\\n factory_data\")\n",
    "print(factory_data.schema)\n",
    "print(\"\\n geo_data\")\n",
    "print(geo_data.schema)"
   ]
  },
  {
   "cell_type": "code",
   "execution_count": 45,
   "id": "6655cfab-ca33-4cc5-ac48-9c0b110ae5e2",
   "metadata": {
    "tags": []
   },
   "outputs": [
    {
     "name": "stderr",
     "output_type": "stream",
     "text": [
      "                                                                                \r"
     ]
    },
    {
     "data": {
      "text/plain": [
       "[Row(customer_id=1, username='robin48', name='Jesse Spencer', gender='M', email='udalton@yahoo.com', occupation='Pharmacist, community', birthdate='1975-09-24', address='10305 Scott River Suite 976New Rachelside, SD 17002', salary=153032.45, zip=5767)]"
      ]
     },
     "execution_count": 45,
     "metadata": {},
     "output_type": "execute_result"
    }
   ],
   "source": [
    "customer_data.take(1)"
   ]
  },
  {
   "cell_type": "code",
   "execution_count": 52,
   "id": "5c2ebbd4-7428-4147-b205-f553a58639b6",
   "metadata": {
    "tags": []
   },
   "outputs": [
    {
     "name": "stdout",
     "output_type": "stream",
     "text": [
      "+-----------+\n",
      "|     status|\n",
      "+-----------+\n",
      "|beta_engine|\n",
      "+-----------+\n",
      "\n"
     ]
    }
   ],
   "source": [
    "factory_data.select('status').distinct().show()"
   ]
  },
  {
   "cell_type": "code",
   "execution_count": 66,
   "id": "dff7be32-95ba-49db-b5f3-ca503cc672ca",
   "metadata": {
    "tags": []
   },
   "outputs": [],
   "source": [
    "import numpy as np\n",
    "import pandas as pd\n",
    "import os\n",
    "from datetime import datetime\n",
    "from pyspark.sql.types import LongType, IntegerType, StringType\n",
    "import dbldatagen as dg"
   ]
  },
  {
   "cell_type": "code",
   "execution_count": 58,
   "id": "e9200e4f-146e-4dea-ae29-06b79db15e0c",
   "metadata": {
    "tags": []
   },
   "outputs": [],
   "source": [
    "def car_installs_gen(partitions_num=10, row_count = 100000, unique_vals=100000, display_option=True):\n",
    "    \n",
    "    model_codes = [\"A\",\"B\",\"D\",\"E\"]\n",
    "\n",
    "    testDataSpec = (\n",
    "        dg.DataGenerator(spark, name=\"car_installs\", rows=row_count,partitions=partitions_num).withIdOutput()\n",
    "        .withColumn(\"model\", \"string\", values=model_codes, random=True)\n",
    "        .withColumn(\"VIN\", \"string\", template=r'\\\\N8UCGTTVDK5J', random=True)\n",
    "        .withColumn(\"serial_no\", \"string\", template=r'\\\\N42CLDR0156661577860220', random=True)\n",
    "    )\n",
    "\n",
    "    dfTestData = testDataSpec.build()\n",
    "    \n",
    "    return dfTestData"
   ]
  },
  {
   "cell_type": "code",
   "execution_count": 59,
   "id": "7ed95a15-580c-44c9-8c9b-9d62ae9d3e4b",
   "metadata": {
    "tags": []
   },
   "outputs": [],
   "source": [
    "def car_sales_gen(partitions_num=10, row_count = 100000, unique_vals=100000, display_option=True):\n",
    "    \n",
    "    model_codes = [\"Model A\",\"Model B\",\"Model D\",\"Model E\"]\n",
    "\n",
    "    testDataSpec = (\n",
    "        dg.DataGenerator(spark, name=\"car_sales\", rows=row_count,partitions=partitions_num).withIdOutput()\n",
    "        .withColumn(\"customer_id\", \"integer\", minValue=10000, maxValue=1000000, random=True)\n",
    "        .withColumn(\"model\", \"string\", values=model_codes, random=True)\n",
    "        .withColumn(\"saleprice\", \"decimal(10,2)\", minValue=5000, maxValue=100000, random=True)\n",
    "        .withColumn(\"VIN\", \"string\", template=r'\\\\N8UCGTTVDK5J', random=True)\n",
    "        .withColumn(\"month\", \"integer\", minValue=1, maxValue=12, random=True)\n",
    "        .withColumn(\"year\", \"integer\", minValue=1999, maxValue=2023, random=True)\n",
    "        .withColumn(\"day\", \"integer\", minValue=1, maxValue=28, random=True)\n",
    "    )\n",
    "\n",
    "    dfTestData = testDataSpec.build()\n",
    "    \n",
    "    return dfTestData"
   ]
  },
  {
   "cell_type": "code",
   "execution_count": 60,
   "id": "63131bb8-4197-4572-b480-770893613b1d",
   "metadata": {
    "tags": []
   },
   "outputs": [],
   "source": [
    "def customer_gen(partitions_num=10, row_count = 100000, unique_vals=100000, display_option=True):\n",
    "    \n",
    "    model_codes = [\"Model A\",\"Model B\",\"Model D\",\"Model E\"]\n",
    "    gender_codes = [\"M\",\"F\"]\n",
    "\n",
    "    testDataSpec = (\n",
    "        dg.DataGenerator(spark, name=\"customer_data\", rows=row_count,partitions=partitions_num).withIdOutput()\n",
    "        .withColumn(\"customer_id\", \"integer\", minValue=10000, maxValue=1000000, random=True)\n",
    "        .withColumn('username', 'string', template=r'\\\\w', random=True)\n",
    "        .withColumn('name', 'string', template=r'\\\\w', random=True)\n",
    "        .withColumn('gender', 'string', values=gender_codes, random=True)\n",
    "        .withColumn(\"email\", 'string', template=r\"\\\\w.\\\\w@\\\\w.com\", random=True)\n",
    "        .withColumn(\"birthdate\", \"timestamp\", begin=\"1950-01-01 01:00:00\", \n",
    "                end=\"2003-12-31 23:59:00\", interval=\"1 minute\", random=True )\n",
    "        .withColumn(\"salary\", \"decimal(10,2)\", minValue=50000, maxValue=1000000, random=True)\n",
    "        .withColumn(\"zip\", \"integer\", minValue=10000, maxValue=99999, random=True)\n",
    "    )\n",
    "\n",
    "    dfTestData = testDataSpec.build()\n",
    "    \n",
    "    return dfTestData"
   ]
  },
  {
   "cell_type": "code",
   "execution_count": 63,
   "id": "62abcf7d-90ba-4a9d-9507-d1a767d236e8",
   "metadata": {
    "tags": []
   },
   "outputs": [],
   "source": [
    "def factory_gen(partitions_num=10, row_count = 100000, unique_vals=100000, display_option=True):\n",
    "\n",
    "    testDataSpec = (\n",
    "        dg.DataGenerator(spark, name=\"factory_data\", rows=row_count,partitions=partitions_num).withIdOutput()\n",
    "        .withColumn(\"factory_no\", \"int\", minValue=10000, maxValue=1000000, random=True)\n",
    "        .withColumn(\"machine_no\", \"int\", minValue=120, maxValue=99999, random=True)\n",
    "        .withColumn(\"serial_no\", \"string\", template=r'\\\\N42CLDR0156661577860220', random=True)\n",
    "        .withColumn(\"part_no\", \"string\", template=r'\\\\a42CLDR', random=True)\n",
    "        .withColumn(\"timestamp\", \"timestamp\", begin=\"2000-01-01 01:00:00\", \n",
    "                end=\"2003-12-31 23:59:00\", interval=\"1 minute\", random=True )\n",
    "        .withColumn(\"status\", \"string\", values=[\"beta_engine\"])\n",
    "        \n",
    "    )\n",
    "\n",
    "    dfTestData = testDataSpec.build()\n",
    "    \n",
    "    return dfTestData"
   ]
  },
  {
   "cell_type": "code",
   "execution_count": 62,
   "id": "0176c125-abda-4b43-b29d-b801e2e3df16",
   "metadata": {
    "tags": []
   },
   "outputs": [],
   "source": [
    "def geo_gen(partitions_num=10, row_count = 100000, unique_vals=100000, display_option=True):\n",
    "\n",
    "    state_names = [\"Alabama\", \"Alaska\", \"Arizona\", \"Arkansas\", \"California\", \"Colorado\", \"Connecticut\", \"Delaware\", \"Florida\"]\n",
    "    \n",
    "    testDataSpec = (\n",
    "        dg.DataGenerator(spark, name=\"geo_data\", rows=row_count,partitions=partitions_num).withIdOutput()\n",
    "        .withColumn(\"country_code\", \"string\", values=[\"US\"])\n",
    "        .withColumn(\"state\", \"string\", values=state_names, random=True)\n",
    "        .withColumn(\"postalcode\", \"integer\", minValue=10000, maxValue=99999, random=True)\n",
    "        .withColumn(\"latitude\", \"decimal(10,2)\", minValue=-90, maxValue=90, random=True)\n",
    "        .withColumn(\"longitude\", \"decimal(10,2)\", minValue=-180, maxValue=180, random=True)\n",
    "    )\n",
    "\n",
    "    dfTestData = testDataSpec.build()\n",
    "    \n",
    "    return dfTestData"
   ]
  },
  {
   "cell_type": "code",
   "execution_count": null,
   "id": "d9d848f2-af38-4ca4-8554-7cfa4b5c4c07",
   "metadata": {},
   "outputs": [],
   "source": []
  },
  {
   "cell_type": "code",
   "execution_count": 64,
   "id": "8111777e-5777-46c8-8dfe-cd76827deed0",
   "metadata": {
    "tags": []
   },
   "outputs": [],
   "source": [
    "dfTestData = geo_gen()"
   ]
  },
  {
   "cell_type": "code",
   "execution_count": 65,
   "id": "c234ed9a-ca09-489d-9f37-a42aba04df1b",
   "metadata": {
    "tags": []
   },
   "outputs": [
    {
     "data": {
      "text/plain": [
       "[Row(id=0, country_code='US', state='California', postalcode=18287, latitude=Decimal('52.00'), longitude=Decimal('-15.00'))]"
      ]
     },
     "execution_count": 65,
     "metadata": {},
     "output_type": "execute_result"
    }
   ],
   "source": [
    "dfTestData.take(1)"
   ]
  },
  {
   "cell_type": "code",
   "execution_count": null,
   "id": "a0c8991e-56ff-4e6e-a3dc-9bbcd506d86d",
   "metadata": {},
   "outputs": [],
   "source": []
  },
  {
   "cell_type": "code",
   "execution_count": null,
   "id": "0fd6c12e-c0bb-4e86-ae8e-a41bd7eb75d2",
   "metadata": {},
   "outputs": [],
   "source": []
  },
  {
   "cell_type": "code",
   "execution_count": null,
   "id": "c723a880-8b31-4d0c-a884-a1af5c32d41c",
   "metadata": {},
   "outputs": [],
   "source": []
  },
  {
   "cell_type": "code",
   "execution_count": null,
   "id": "d65d2d70-0163-4175-8a99-e59c082689a1",
   "metadata": {},
   "outputs": [],
   "source": []
  },
  {
   "cell_type": "code",
   "execution_count": null,
   "id": "72ba12a5-a146-42a0-aa9a-30a1b65d9638",
   "metadata": {},
   "outputs": [],
   "source": []
  },
  {
   "cell_type": "code",
   "execution_count": 19,
   "id": "4a952499-143a-4133-afba-d2a415a4f562",
   "metadata": {
    "tags": []
   },
   "outputs": [],
   "source": [
    "import numpy as np\n",
    "import pandas as pd\n",
    "import os\n",
    "from datetime import datetime\n",
    "from pyspark.sql.types import LongType, IntegerType, StringType\n",
    "import dbldatagen as dg"
   ]
  },
  {
   "cell_type": "code",
   "execution_count": 20,
   "id": "a5456eff-8ccf-4c4a-b3d7-1bb84fa01bc4",
   "metadata": {
    "tags": []
   },
   "outputs": [],
   "source": [
    "country_codes = [\n",
    "    \"CN\", \"US\", \"FR\", \"CA\", \"IN\", \"JM\", \"IE\", \"PK\", \"GB\", \"IL\", \"AU\",\n",
    "    \"SG\", \"ES\", \"GE\", \"MX\", \"ET\", \"SA\", \"LB\", \"NL\", \"IT\"\n",
    "]\n",
    "country_weights = [\n",
    "    1300, 365, 67, 38, 1300, 3, 7, 212, 67, 9, 25, 6, 47, 83,\n",
    "    126, 109, 58, 8, 17, 20\n",
    "]\n",
    "\n",
    "manufacturers = [\n",
    "    \"Delta corp\", \"Xyzzy Inc.\", \"Lakehouse Ltd\", \"Acme Corp\", \"Embanks Devices\",\n",
    "]\n",
    "\n",
    "lines = [\"delta\", \"xyzzy\", \"lakehouse\", \"gadget\", \"droid\"]\n",
    "\n",
    "testDataSpec = (\n",
    "    dg.DataGenerator(spark, name=\"device_data_set\", rows=row_count,partitions=partitions_num).withIdOutput()\n",
    "    # we'll use hash of the base field to generate the ids to\n",
    "    # avoid a simple incrementing sequence\n",
    "    .withColumn(\"internal_device_id\", \"long\", minValue=0x1000000000000,\n",
    "                uniqueValues=unique_vals, omit=True, baseColumnType=\"hash\",\n",
    "    )\n",
    "    # note for format strings, we must use \"%lx\" not \"%x\" as the\n",
    "    # underlying value is a long\n",
    "    .withColumn(\n",
    "        \"device_id\", \"string\", format=\"0x%013x\", baseColumn=\"internal_device_id\"\n",
    "    )\n",
    "    # the device / user attributes will be the same for the same device id\n",
    "    # so lets use the internal device id as the base column for these attribute\n",
    "    .withColumn(\"country\", \"string\", values=country_codes, #weights=country_weights,\n",
    "                baseColumn=\"internal_device_id\")\n",
    "    .withColumn(\"manufacturer\", \"string\", values=manufacturers,\n",
    "                baseColumn=\"internal_device_id\", )\n",
    "    # use omit = True if you don't want a column to appear in the final output\n",
    "    # but just want to use it as part of generation of another column\n",
    "    .withColumn(\"line\", \"string\", values=lines, baseColumn=\"manufacturer\",\n",
    "                baseColumnType=\"hash\", omit=True )\n",
    "    .withColumn(\"model_ser\", \"integer\", minValue=1, maxValue=11, baseColumn=\"device_id\",\n",
    "                baseColumnType=\"hash\", omit=True, )\n",
    "    .withColumn(\"model_line\", \"string\", expr=\"concat(line, '#', model_ser)\",\n",
    "                baseColumn=[\"line\", \"model_ser\"] )\n",
    "    .withColumn(\"event_type\", \"string\",\n",
    "                values=[\"activation\", \"deactivation\", \"plan change\", \"telecoms activity\",\n",
    "                        \"internet activity\", \"device error\", ],\n",
    "                random=True)\n",
    "    .withColumn(\"event_ts\", \"timestamp\", begin=\"2020-01-01 01:00:00\",\n",
    "                end=\"2020-12-31 23:59:00\",\n",
    "                interval=\"1 minute\", random=True )\n",
    ")\n",
    "\n",
    "dfTestData = testDataSpec.build()"
   ]
  },
  {
   "cell_type": "code",
   "execution_count": null,
   "id": "74e439ac-119d-4d66-9c56-9dbc03494af9",
   "metadata": {},
   "outputs": [],
   "source": []
  }
 ],
 "metadata": {
  "kernelspec": {
   "display_name": "Python 3 (ipykernel)",
   "language": "python",
   "name": "python3"
  },
  "language_info": {
   "codemirror_mode": {
    "name": "ipython",
    "version": 3
   },
   "file_extension": ".py",
   "mimetype": "text/x-python",
   "name": "python",
   "nbconvert_exporter": "python",
   "pygments_lexer": "ipython3",
   "version": "3.7.16"
  }
 },
 "nbformat": 4,
 "nbformat_minor": 5
}
